{
 "cells": [
  {
   "cell_type": "code",
   "execution_count": 12,
   "id": "3cd99910-19e4-4626-aa5d-b4600771bd18",
   "metadata": {
    "tags": []
   },
   "outputs": [],
   "source": [
    "import cv2 as cv\n",
    "import sys"
   ]
  },
  {
   "cell_type": "code",
   "execution_count": 18,
   "id": "788f4f56-e31b-48c8-a254-f6b611ba628b",
   "metadata": {
    "tags": []
   },
   "outputs": [],
   "source": [
    "img = cv.imread('mnist.png', 0)\n",
    "height, width = img.shape\n",
    "Hcell = height//50\n",
    "Wcell = width//100\n",
    "\n",
    "for num in range(10):\n",
    "    start = num*100\n",
    "    for i in range(start, start+height//10, Hcell):\n",
    "        for j in range(0, width, Wcell):\n",
    "            cell = img[i: i+Hcell , j: j+Wcell]\n",
    "            cv.imwrite(f'{num}/{i}{j}.jpg', cell)\n",
    "            \n",
    "            "
   ]
  },
  {
   "cell_type": "code",
   "execution_count": null,
   "id": "e3a29371-659a-47b1-bfed-e9888d891fa9",
   "metadata": {},
   "outputs": [],
   "source": []
  }
 ],
 "metadata": {
  "kernelspec": {
   "display_name": "Python 3 (ipykernel)",
   "language": "python",
   "name": "python3"
  },
  "language_info": {
   "codemirror_mode": {
    "name": "ipython",
    "version": 3
   },
   "file_extension": ".py",
   "mimetype": "text/x-python",
   "name": "python",
   "nbconvert_exporter": "python",
   "pygments_lexer": "ipython3",
   "version": "3.8.10"
  }
 },
 "nbformat": 4,
 "nbformat_minor": 5
}
