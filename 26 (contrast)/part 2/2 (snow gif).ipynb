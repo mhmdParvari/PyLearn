{
 "cells": [
  {
   "cell_type": "code",
   "execution_count": 1,
   "id": "ce8a957f-6905-4ca5-90f2-98828b07aa64",
   "metadata": {
    "tags": []
   },
   "outputs": [],
   "source": [
    "import numpy as np\n",
    "from random import randint\n",
    "import imageio\n",
    "import cv2 as cv"
   ]
  },
  {
   "cell_type": "code",
   "execution_count": 2,
   "id": "833092da-15b8-419c-b54e-a83b529136ca",
   "metadata": {
    "tags": []
   },
   "outputs": [],
   "source": [
    "class Snowflake:\n",
    "    def __init__(self, background):\n",
    "        self.x = randint(0, background.shape[1])\n",
    "        self.y = randint(-230,0)\n",
    "\n",
    "        self.r = randint(1,3)\n",
    "        color = randint(200, 255)\n",
    "        self.color = (color, color, color)\n",
    "        self.change_x = 0\n",
    "\n",
    "    def move(self):\n",
    "        if randint(1,4) == 1:\n",
    "            self.change_x = randint(-10,10)\n",
    "        self.x += self.change_x\n",
    "        self.y += randint(1, 19)"
   ]
  },
  {
   "cell_type": "code",
   "execution_count": 5,
   "id": "d9b46b07-fe11-4111-9f6f-2050ce02ddf0",
   "metadata": {
    "tags": []
   },
   "outputs": [
    {
     "name": "stderr",
     "output_type": "stream",
     "text": [
      "C:\\Users\\Panam\\AppData\\Local\\Temp\\ipykernel_4660\\113189805.py:1: DeprecationWarning: Starting with ImageIO v3 the behavior of this function will switch to that of iio.v3.imread. To keep the current behavior (and make this warning dissapear) use `import imageio.v2 as imageio` or call `imageio.v2.imread` directly.\n",
      "  base_img = imageio.imread('winter-69927__340.jpg')\n"
     ]
    }
   ],
   "source": [
    "base_img = imageio.imread('winter-69927__340.jpg')\n",
    "images=[]\n",
    "snowflakes = [Snowflake(base_img) for i in range(50)]\n",
    "\n",
    "for i in range(80):\n",
    "    # img = np.zeros((600,600))\n",
    "    img = np.array(base_img,np.uint8)\n",
    "    for sf in snowflakes:\n",
    "        cv.circle(img, (sf.x, sf.y), sf.r, sf.color, -1, cv.LINE_AA)\n",
    "        sf.move()\n",
    "    images.append(img)\n",
    "real = []\n",
    "for i in range(20):\n",
    "    real.append(images[i]+(images[i+20]-base_img)+(images[i+40]-base_img)+(images[i+60]-base_img))\n",
    "\n",
    "imageio.mimsave('snow.gif', real)"
   ]
  },
  {
   "cell_type": "code",
   "execution_count": null,
   "id": "ccd7e6dc-10b1-441f-9e75-31591876a076",
   "metadata": {},
   "outputs": [],
   "source": []
  }
 ],
 "metadata": {
  "kernelspec": {
   "display_name": "Python 3 (ipykernel)",
   "language": "python",
   "name": "python3"
  },
  "language_info": {
   "codemirror_mode": {
    "name": "ipython",
    "version": 3
   },
   "file_extension": ".py",
   "mimetype": "text/x-python",
   "name": "python",
   "nbconvert_exporter": "python",
   "pygments_lexer": "ipython3",
   "version": "3.8.10"
  }
 },
 "nbformat": 4,
 "nbformat_minor": 5
}
