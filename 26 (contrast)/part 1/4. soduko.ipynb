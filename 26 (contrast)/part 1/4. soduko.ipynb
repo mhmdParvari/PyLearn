{
 "cells": [
  {
   "cell_type": "code",
   "execution_count": 1,
   "id": "4d03426c-e706-4e39-9d14-f925e0978e1a",
   "metadata": {
    "tags": []
   },
   "outputs": [],
   "source": [
    "import cv2 as cv\n",
    "import numpy as np\n",
    "# import sys"
   ]
  },
  {
   "cell_type": "code",
   "execution_count": 8,
   "id": "69639c35-411f-4b8e-8ace-6be004062d4c",
   "metadata": {
    "tags": []
   },
   "outputs": [],
   "source": [
    "img = cv.imread('sudoku.tif', 0)\n",
    "img = cv.equalizeHist(img)\n",
    "height, width = img.shape\n",
    "# frow, lrow, fcol, lcol = 0,0,0,0\n",
    "flag = False\n",
    "for i in range(height):\n",
    "    if flag: break\n",
    "    for j in range(width):\n",
    "        if not img[i][j]== 255:\n",
    "            frow = i\n",
    "            fcol = j\n",
    "            flag = True\n",
    "            break\n",
    "flag = False\n",
    "for i in range(height-1, 0, -1):\n",
    "    if flag: break\n",
    "    for j in range(width-1, 0, -1):\n",
    "        if not img[i][j]== 255:\n",
    "            lrow = i\n",
    "            lcol = j\n",
    "            flag = True\n",
    "            break\n",
    "            \n",
    "img = img[frow:lrow+1, fcol:lcol+1]\n",
    "height, width = img.shape"
   ]
  },
  {
   "cell_type": "code",
   "execution_count": 9,
   "id": "14bb3c3c-5dad-440a-aec5-d225718639d7",
   "metadata": {},
   "outputs": [
    {
     "data": {
      "text/plain": [
       "True"
      ]
     },
     "execution_count": 9,
     "metadata": {},
     "output_type": "execute_result"
    }
   ],
   "source": [
    "cell = height // 9\n",
    "\n",
    "counter = 0\n",
    "for i in range(13, height, cell):\n",
    "    for j in range(13, width, cell):\n",
    "        check_area = img[i+cell//2-15: i+cell//2+1 , j+cell//2-15: j+cell//2+1]\n",
    "        black_pixels = 0\n",
    "        for row in check_area:\n",
    "            for pixel in row:\n",
    "                if pixel < 100: black_pixels += 1\n",
    "        if black_pixels > 4:\n",
    "            counter+=1\n",
    "            cv.imwrite(f'pic {counter}.jpg',img[i:i+cell-23, j:j+cell-23])\n",
    "        "
   ]
  },
  {
   "cell_type": "code",
   "execution_count": null,
   "id": "d60c8e13-4d6a-4695-8cd8-b49dca9c8fca",
   "metadata": {},
   "outputs": [],
   "source": []
  }
 ],
 "metadata": {
  "kernelspec": {
   "display_name": "Python 3 (ipykernel)",
   "language": "python",
   "name": "python3"
  },
  "language_info": {
   "codemirror_mode": {
    "name": "ipython",
    "version": 3
   },
   "file_extension": ".py",
   "mimetype": "text/x-python",
   "name": "python",
   "nbconvert_exporter": "python",
   "pygments_lexer": "ipython3",
   "version": "3.8.10"
  }
 },
 "nbformat": 4,
 "nbformat_minor": 5
}
