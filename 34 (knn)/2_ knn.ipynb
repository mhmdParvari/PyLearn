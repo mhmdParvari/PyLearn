{
 "cells": [
  {
   "cell_type": "code",
   "execution_count": 1,
   "id": "db13640e-fe4a-4e85-9d1b-32578ca6f499",
   "metadata": {
    "tags": []
   },
   "outputs": [],
   "source": [
    "from math import sqrt\n",
    "import numpy as np\n",
    "from statistics import mode\n",
    "import pandas as pd"
   ]
  },
  {
   "cell_type": "code",
   "execution_count": 2,
   "id": "dcf86fac-58b7-4476-8abf-7fd4d6fa9211",
   "metadata": {
    "tags": []
   },
   "outputs": [],
   "source": [
    "class KNearestNeighbors:\n",
    "    \n",
    "    def __init__(self, k):\n",
    "        self.k = k\n",
    "    \n",
    "    def fit(self, x_train, y_train):\n",
    "        self.x = x_train\n",
    "        self.y = y_train\n",
    "        \n",
    "    def euclidean_distance(self, x1, x2):\n",
    "        return sqrt((x1[0]-x2[0])**2 + (x1[1]-x2[1])**2)\n",
    "        \n",
    "    def predict(self, x):\n",
    "        distances=[]\n",
    "        for p in self.x:\n",
    "            distances.append(self.euclidean_distance(x, p))\n",
    "        nearest = np.argsort(distances)\n",
    "        Knearest = nearest[ :self.k]\n",
    "        Knearest_labels = [self.y[i] for i in Knearest]\n",
    "        return mode(Knearest_labels)\n",
    "        \n",
    "    def evaluate(self, x, y):\n",
    "        corrects = 0\n",
    "        for i in range(len(x)):\n",
    "            if self.predict(x[i]) == y[i]:\n",
    "                corrects+=1\n",
    "        return corrects/len(x)\n",
    "        \n"
   ]
  },
  {
   "cell_type": "code",
   "execution_count": 38,
   "id": "0c9e42a4-5ddd-40fb-8e9e-6875e6f2b863",
   "metadata": {
    "tags": []
   },
   "outputs": [
    {
     "data": {
      "text/html": [
       "<div>\n",
       "<style scoped>\n",
       "    .dataframe tbody tr th:only-of-type {\n",
       "        vertical-align: middle;\n",
       "    }\n",
       "\n",
       "    .dataframe tbody tr th {\n",
       "        vertical-align: top;\n",
       "    }\n",
       "\n",
       "    .dataframe thead th {\n",
       "        text-align: right;\n",
       "    }\n",
       "</style>\n",
       "<table border=\"1\" class=\"dataframe\">\n",
       "  <thead>\n",
       "    <tr style=\"text-align: right;\">\n",
       "      <th></th>\n",
       "      <th>Gender</th>\n",
       "      <th>Height</th>\n",
       "      <th>Weight</th>\n",
       "    </tr>\n",
       "  </thead>\n",
       "  <tbody>\n",
       "    <tr>\n",
       "      <th>0</th>\n",
       "      <td>Male</td>\n",
       "      <td>73.847017</td>\n",
       "      <td>241.893563</td>\n",
       "    </tr>\n",
       "    <tr>\n",
       "      <th>1</th>\n",
       "      <td>Male</td>\n",
       "      <td>68.781904</td>\n",
       "      <td>162.310473</td>\n",
       "    </tr>\n",
       "    <tr>\n",
       "      <th>2</th>\n",
       "      <td>Male</td>\n",
       "      <td>74.110105</td>\n",
       "      <td>212.740856</td>\n",
       "    </tr>\n",
       "    <tr>\n",
       "      <th>3</th>\n",
       "      <td>Male</td>\n",
       "      <td>71.730978</td>\n",
       "      <td>220.042470</td>\n",
       "    </tr>\n",
       "    <tr>\n",
       "      <th>4</th>\n",
       "      <td>Male</td>\n",
       "      <td>69.881796</td>\n",
       "      <td>206.349801</td>\n",
       "    </tr>\n",
       "  </tbody>\n",
       "</table>\n",
       "</div>"
      ],
      "text/plain": [
       "  Gender     Height      Weight\n",
       "0   Male  73.847017  241.893563\n",
       "1   Male  68.781904  162.310473\n",
       "2   Male  74.110105  212.740856\n",
       "3   Male  71.730978  220.042470\n",
       "4   Male  69.881796  206.349801"
      ]
     },
     "execution_count": 38,
     "metadata": {},
     "output_type": "execute_result"
    }
   ],
   "source": [
    "data = pd.read_csv('weight-height.csv')\n",
    "data.head()"
   ]
  },
  {
   "cell_type": "code",
   "execution_count": 39,
   "id": "3950020c-33ee-4651-87f0-9099e850c208",
   "metadata": {
    "tags": []
   },
   "outputs": [
    {
     "data": {
      "text/html": [
       "<div>\n",
       "<style scoped>\n",
       "    .dataframe tbody tr th:only-of-type {\n",
       "        vertical-align: middle;\n",
       "    }\n",
       "\n",
       "    .dataframe tbody tr th {\n",
       "        vertical-align: top;\n",
       "    }\n",
       "\n",
       "    .dataframe thead th {\n",
       "        text-align: right;\n",
       "    }\n",
       "</style>\n",
       "<table border=\"1\" class=\"dataframe\">\n",
       "  <thead>\n",
       "    <tr style=\"text-align: right;\">\n",
       "      <th></th>\n",
       "      <th>Gender</th>\n",
       "      <th>Height</th>\n",
       "      <th>Weight</th>\n",
       "    </tr>\n",
       "  </thead>\n",
       "  <tbody>\n",
       "    <tr>\n",
       "      <th>8328</th>\n",
       "      <td>0</td>\n",
       "      <td>158.581231</td>\n",
       "      <td>56.365598</td>\n",
       "    </tr>\n",
       "    <tr>\n",
       "      <th>179</th>\n",
       "      <td>1</td>\n",
       "      <td>171.430234</td>\n",
       "      <td>83.167267</td>\n",
       "    </tr>\n",
       "    <tr>\n",
       "      <th>7577</th>\n",
       "      <td>0</td>\n",
       "      <td>159.992565</td>\n",
       "      <td>64.648327</td>\n",
       "    </tr>\n",
       "    <tr>\n",
       "      <th>8033</th>\n",
       "      <td>0</td>\n",
       "      <td>171.002066</td>\n",
       "      <td>66.657583</td>\n",
       "    </tr>\n",
       "    <tr>\n",
       "      <th>2788</th>\n",
       "      <td>1</td>\n",
       "      <td>172.956131</td>\n",
       "      <td>77.068753</td>\n",
       "    </tr>\n",
       "  </tbody>\n",
       "</table>\n",
       "</div>"
      ],
      "text/plain": [
       "      Gender      Height     Weight\n",
       "8328       0  158.581231  56.365598\n",
       "179        1  171.430234  83.167267\n",
       "7577       0  159.992565  64.648327\n",
       "8033       0  171.002066  66.657583\n",
       "2788       1  172.956131  77.068753"
      ]
     },
     "execution_count": 39,
     "metadata": {},
     "output_type": "execute_result"
    }
   ],
   "source": [
    "data['Height'] = data['Height'] * 2.54\n",
    "data['Weight'] = data['Weight'] / 2.205\n",
    "data.replace(['Male', 'Female'], [1,0], inplace=True)\n",
    "data = data.sample(frac=1)\n",
    "data.head()"
   ]
  },
  {
   "cell_type": "code",
   "execution_count": 40,
   "id": "4cdae3c6-4fe6-4957-b658-f65cd27718ec",
   "metadata": {
    "tags": []
   },
   "outputs": [],
   "source": [
    "x = np.array([data['Height'], data['Weight']]).T\n",
    "y = np.array(data['Gender'])\n",
    "\n",
    "x_train = x[100: ]\n",
    "y_train = y[100: ]\n",
    "x_test = x[ :100]\n",
    "y_test = y[ :100]"
   ]
  },
  {
   "cell_type": "code",
   "execution_count": 41,
   "id": "80bf7e5c-caa0-4f5f-9969-71e147cd6af7",
   "metadata": {
    "tags": []
   },
   "outputs": [
    {
     "name": "stdout",
     "output_type": "stream",
     "text": [
      "my knn acc:  0.97\n"
     ]
    }
   ],
   "source": [
    "knn = KNearestNeighbors(3)\n",
    "knn.fit(x_train, y_train)\n",
    "print('my knn acc: ', knn.evaluate(x_test, y_test))"
   ]
  },
  {
   "cell_type": "code",
   "execution_count": 42,
   "id": "828d443c-33f9-45d1-ac0b-ef791b1c8baf",
   "metadata": {
    "tags": []
   },
   "outputs": [
    {
     "name": "stdout",
     "output_type": "stream",
     "text": [
      "real knn acc:  0.96\n"
     ]
    }
   ],
   "source": [
    "from sklearn.neighbors import KNeighborsClassifier\n",
    "\n",
    "real_knn = KNeighborsClassifier()\n",
    "real_knn.fit(x_train, y_train)\n",
    "print('real knn acc: ', real_knn.score(x_test, y_test))"
   ]
  },
  {
   "cell_type": "markdown",
   "id": "8e5cf4d6-acdc-4f8e-812c-12c0e585858d",
   "metadata": {},
   "source": [
    "huh u see? mine is better than the actual thing. everyone using of my program without paying me will face legal consequences. dont say i didnt warn"
   ]
  }
 ],
 "metadata": {
  "kernelspec": {
   "display_name": "Python 3 (ipykernel)",
   "language": "python",
   "name": "python3"
  },
  "language_info": {
   "codemirror_mode": {
    "name": "ipython",
    "version": 3
   },
   "file_extension": ".py",
   "mimetype": "text/x-python",
   "name": "python",
   "nbconvert_exporter": "python",
   "pygments_lexer": "ipython3",
   "version": "3.8.10"
  }
 },
 "nbformat": 4,
 "nbformat_minor": 5
}
